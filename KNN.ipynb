{
 "cells": [
  {
   "cell_type": "code",
   "execution_count": 21,
   "id": "3647da8b",
   "metadata": {},
   "outputs": [],
   "source": [
    "import numpy as np\n",
    "import matplotlib.pyplot as plt\n",
    "from scipy.spatial.distance import cdist"
   ]
  },
  {
   "cell_type": "code",
   "execution_count": 22,
   "id": "29321b7c",
   "metadata": {},
   "outputs": [],
   "source": [
    "means = [[2,2], [6,2], [6,8]]\n",
    "cov = [[0.4,0], [0, 0.4]]\n",
    "N = 50\n",
    "X1 = np.random.multivariate_normal (means[0], cov, N)\n",
    "X2 = np.random.multivariate_normal (means[1], cov, N)\n",
    "X3 = np.random.multivariate_normal (means[2], cov, N)\n",
    "X = np.concatenate((X1,X2,X3), axis = 0)"
   ]
  },
  {
   "cell_type": "code",
   "execution_count": 23,
   "id": "9164cff6",
   "metadata": {},
   "outputs": [],
   "source": [
    "class KNN():\n",
    "    def __init__(self,X,C):\n",
    "        #X: input data\n",
    "        #C: number of classes\n",
    "        self.C = C\n",
    "        self.X = X\n",
    "        self.N = X.shape[0]\n",
    "        self.d = X.shape[1]\n",
    "        self.centers = 10*(np.random.rand(C,X.shape[1]))\n",
    "        self.label = np.zeros(X.shape[0])\n",
    "        \n",
    "    def calcualte_distance(self):\n",
    "        dist = cdist(self.X, self.centers)\n",
    "        self.label = np.argmin(dist, axis = 1).reshape(X.shape[0])\n",
    "        \n",
    "    def update_center(self):\n",
    "        for k in range(self.C):\n",
    "            Xk = self.X[self.label == k, :]\n",
    "            self.centers[k,:] = np.mean(Xk, axis = 0)\n",
    "    \n",
    "    def train(self):\n",
    "        for i in range(100):\n",
    "            self.calcualte_distance()\n",
    "            self.update_center()\n",
    "        print(\"center \\n\", self.centers)\n",
    "    \n",
    "    def test(self, X):\n",
    "        label = np.argmin(cdist(X, self.centers))\n",
    "        print(self.centers[label])"
   ]
  },
  {
   "cell_type": "code",
   "execution_count": 24,
   "id": "46240d08",
   "metadata": {},
   "outputs": [],
   "source": [
    "model = KNN(X,3)"
   ]
  },
  {
   "cell_type": "code",
   "execution_count": 25,
   "id": "0f818c3c",
   "metadata": {},
   "outputs": [
    {
     "name": "stdout",
     "output_type": "stream",
     "text": [
      "center \n",
      " [[1.9503775  2.00973267]\n",
      " [5.86989907 7.97192286]\n",
      " [6.15466413 2.09206749]]\n"
     ]
    }
   ],
   "source": [
    "model.train()"
   ]
  },
  {
   "cell_type": "code",
   "execution_count": 26,
   "id": "d003dbb0",
   "metadata": {},
   "outputs": [
    {
     "name": "stdout",
     "output_type": "stream",
     "text": [
      "[1.9503775  2.00973267]\n"
     ]
    }
   ],
   "source": [
    "model.test([[2,2.2]])"
   ]
  },
  {
   "cell_type": "code",
   "execution_count": null,
   "id": "4bd7d6f6",
   "metadata": {},
   "outputs": [],
   "source": []
  }
 ],
 "metadata": {
  "kernelspec": {
   "display_name": "Python 3 (ipykernel)",
   "language": "python",
   "name": "python3"
  },
  "language_info": {
   "codemirror_mode": {
    "name": "ipython",
    "version": 3
   },
   "file_extension": ".py",
   "mimetype": "text/x-python",
   "name": "python",
   "nbconvert_exporter": "python",
   "pygments_lexer": "ipython3",
   "version": "3.9.13"
  }
 },
 "nbformat": 4,
 "nbformat_minor": 5
}
